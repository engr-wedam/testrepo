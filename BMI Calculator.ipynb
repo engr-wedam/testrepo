{
 "cells": [
  {
   "cell_type": "markdown",
   "id": "2c6f4327-37b0-4bd6-89c6-5f0992dcb7b3",
   "metadata": {},
   "source": [
    "# BMI Calculator\n",
    "\n",
    "https://mercer-health.com/services/weight-management-center/bmi-calculator#:~:text=Body%20Mass%20Index%2C%20or%20BMI,inches%20x%20height%20in%20inches"
   ]
  },
  {
   "cell_type": "markdown",
   "id": "e98e3de9-5965-4071-97c2-1da0497ae0c6",
   "metadata": {},
   "source": [
    "#BMI = (weight in pounds x 703) / (height in inches x height in inches)"
   ]
  },
  {
   "cell_type": "markdown",
   "id": "23c95789-6723-4264-bdce-552872f59c32",
   "metadata": {},
   "source": [
    "```Under 18.5\tUnderweight\tMinimal\n",
    "18.5 - 24.9\tNormal Weight\tMinimal\n",
    "25 - 29.9\tOverweight\tIncreased\n",
    "30 - 34.9\tObese\tHigh\n",
    "35 - 39.9\tSeverely Obese\tVery High\n",
    "40 and over\tMorbidly Obese\tExtremely High```"
   ]
  },
  {
   "cell_type": "code",
   "execution_count": null,
   "id": "a79f1704-025e-4059-883a-7852b5869fa7",
   "metadata": {},
   "outputs": [],
   "source": []
  },
  {
   "cell_type": "code",
   "execution_count": 92,
   "id": "ed5098ce-4963-4f04-a828-9f696a09ca37",
   "metadata": {},
   "outputs": [
    {
     "name": "stdin",
     "output_type": "stream",
     "text": [
      "Enter your name: Ahmed Wedam Ahmed\n",
      "Enter your weight in pounds: 160\n",
      "Enter your height in inches: 70\n"
     ]
    },
    {
     "name": "stdout",
     "output_type": "stream",
     "text": [
      "22.955102040816328\n",
      "Ahmed Wedam Ahmed,is Normal Weight Health risk is Minimal\n"
     ]
    }
   ],
   "source": [
    "name =  input('Enter your name:')\n",
    "weight = int(input('Enter your weight in pounds:'))\n",
    "height = int(input('Enter your height in inches:'))\n",
    "BMI = (weight * 703)/(height*height)\n",
    "print(BMI)\n",
    "if BMI > 0:\n",
    "    if(BMI < 18.5):\n",
    "        print(name+\",is Underweight - Health risk is Minimal\")\n",
    "    elif(BMI <= 24.9):\n",
    "        print(name+\",is Normal Weight - Health risk is Minimal\")\n",
    "    elif(BMI <= 29.9):\n",
    "        print(name+\",is Overweight - Health risk is Increased\")\n",
    "    elif(BMI <= 34.9): \n",
    "        print: (name+\",is Obese - Health risk is High\")\n",
    "    elif(BMI <= 39.9): \n",
    "        print: (name+\",is Severely Obese - Health risk is\tVery High\")\n",
    "    else:\n",
    "        print: (name+\",is Morbidly Obese - Health risk is\tExtremely High\")\n",
    "else:\n",
    "    print(\"Enter Valid Input\")\n"
   ]
  },
  {
   "cell_type": "code",
   "execution_count": null,
   "id": "a3138be3-099e-4a18-a7f1-1b1f1f4e72bf",
   "metadata": {},
   "outputs": [],
   "source": []
  },
  {
   "cell_type": "code",
   "execution_count": null,
   "id": "75453bbd-929e-45fd-b5e4-903a97cfceb5",
   "metadata": {},
   "outputs": [],
   "source": []
  },
  {
   "cell_type": "markdown",
   "id": "d3271318-6798-4b83-95cc-8f40ea9ff677",
   "metadata": {},
   "source": [
    "#### using the def method"
   ]
  },
  {
   "cell_type": "code",
   "execution_count": 118,
   "id": "15cb0587-2160-4f6c-b49d-a9b14c2e4aa4",
   "metadata": {},
   "outputs": [
    {
     "name": "stdin",
     "output_type": "stream",
     "text": [
      "Enter your weight in pounds -4\n",
      "Enter your height in inches 5\n"
     ]
    },
    {
     "name": "stdout",
     "output_type": "stream",
     "text": [
      "your bmi is:\n",
      "-112.48\n",
      "Enter Valid Input\n"
     ]
    }
   ],
   "source": [
    "def bmi(w,h):\n",
    "    b=(w*703)/(h**2)\n",
    "    return b\n",
    "weight=float(input(\"Enter your weight in pounds\"))\n",
    "height=float(input(\"Enter your height in inches\"))\n",
    "yourbmi=bmi(weight,height)\n",
    "print(\"your bmi is:\")\n",
    "print(round(yourbmi,2))\n",
    "\n",
    "if yourbmi > 0:\n",
    "    if yourbmi<18.5:\n",
    "        print(\"you are Underweight\")\n",
    "    elif (yourbmi >=18.5 and yourbmi <24.9):\n",
    "        print(\"your weight is normal\")\n",
    "    elif (yourbmi >=24.9 and yourbmi <=29.9):\n",
    "        print(\"you are overweight\")\n",
    "    elif (yourbmi >29.9 and yourbmi <34.9):\n",
    "        print (\"you are obese\")\n",
    "    elif (yourbmi >=34.9 and yourbmi <39.9):\n",
    "        print (\"you are severely obese\")\n",
    "    else :\n",
    "        print (\"you are morbidly obese\")\n",
    "else:\n",
    "    print(\"Enter Valid Input\")\n",
    "\n"
   ]
  },
  {
   "cell_type": "code",
   "execution_count": null,
   "id": "f5795446-9c85-4424-911a-50edc811ead0",
   "metadata": {},
   "outputs": [],
   "source": []
  },
  {
   "cell_type": "markdown",
   "id": "0b92842f-9141-4b6a-977d-27d4a107d214",
   "metadata": {},
   "source": [
    "# User\n",
    "whats power"
   ]
  },
  {
   "cell_type": "markdown",
   "id": "a783a7b6-ebd5-4a84-8e60-c0ce289d4d60",
   "metadata": {},
   "source": [
    "# Assistant\n",
    "In a general context, \"power\" can refer to several concepts depending on the field of study:\n",
    "\n",
    "1. **Physics**: Power is the rate at which work is done or energy is transferred over time. It is typically measured in watts (W), where 1 watt equals 1 joule per second.\n",
    "\n",
    "2. **Mathematics**: In mathematics, power refers to the exponentiation operation, where a number (the base) is raised to the exponent (the power). For example, \\(2^3\\) (2 raised to the power of 3) equals 8.\n",
    "\n",
    "3. **Statistics**: In statistics, power refers to the probability of correctly rejecting the null hypothesis when it is false. It is an important concept in hypothesis testing.\n",
    "\n",
    "4. **Electrical Engineering**: Power can refer to electrical power, which is the product of voltage and current in a circuit.\n",
    "\n",
    "If you are looking for a specific definition or application of \"power,\" please provide more context!"
   ]
  }
 ],
 "metadata": {
  "kernelspec": {
   "display_name": "scipy-tutorials-2023",
   "language": "python",
   "name": "conda-env-scipy-tutorials-2023-py"
  },
  "language_info": {
   "codemirror_mode": {
    "name": "ipython",
    "version": 3
   },
   "file_extension": ".py",
   "mimetype": "text/x-python",
   "name": "python",
   "nbconvert_exporter": "python",
   "pygments_lexer": "ipython3",
   "version": "3.10.0"
  }
 },
 "nbformat": 4,
 "nbformat_minor": 5
}
